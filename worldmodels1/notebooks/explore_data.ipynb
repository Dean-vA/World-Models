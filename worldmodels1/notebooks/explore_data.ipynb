{
 "cells": [
  {
   "cell_type": "code",
   "execution_count": 1,
   "metadata": {},
   "outputs": [],
   "source": [
    "import numpy as np\n",
    "\n",
    "data = np.load(\"./../data/collected_data.npy\", allow_pickle=True)\n"
   ]
  },
  {
   "cell_type": "code",
   "execution_count": 2,
   "metadata": {},
   "outputs": [
    {
     "name": "stdout",
     "output_type": "stream",
     "text": [
      "1\n"
     ]
    }
   ],
   "source": [
    "import torch\n",
    "print(torch.cuda.device_count())\n"
   ]
  },
  {
   "cell_type": "code",
   "execution_count": null,
   "metadata": {},
   "outputs": [],
   "source": [
    "len(data)"
   ]
  },
  {
   "cell_type": "code",
   "execution_count": null,
   "metadata": {},
   "outputs": [],
   "source": [
    "data[0].shape"
   ]
  },
  {
   "cell_type": "code",
   "execution_count": null,
   "metadata": {},
   "outputs": [],
   "source": [
    "data[0][0]"
   ]
  },
  {
   "cell_type": "code",
   "execution_count": null,
   "metadata": {},
   "outputs": [],
   "source": [
    "# Take first episode's data\n",
    "episode_data = data[0]\n",
    "\n",
    "# Extract the states (images)\n",
    "states = [x[0] for x in episode_data]\n",
    "\n",
    "# Take some samples (e.g., first 5)\n",
    "sample_states = states[0:999]\n"
   ]
  },
  {
   "cell_type": "code",
   "execution_count": null,
   "metadata": {},
   "outputs": [],
   "source": [
    "import matplotlib.pyplot as plt\n",
    "\n",
    "cols = 40\n",
    "for idx, image in enumerate(sample_states):\n",
    "    # plot with 10 columns and number of rows based on number of samples\n",
    "    plt.subplot(int(np.ceil(len(sample_states)/cols)), cols, idx+1)\n",
    "    plt.imshow(image, cmap='gray')\n",
    "    plt.axis('off')\n",
    "    # add some vertical space between the images\n",
    "    plt.subplots_adjust(hspace=0.6)\n",
    "    # label the axes with the action\n",
    "    plt.title(np.round(episode_data[idx][1],2), fontsize=3)\n",
    "    #make the length of the figure relative to the number of samples\n",
    "    plt.gcf().set_size_inches(20, len(sample_states)/cols)\n",
    "    \n",
    "\n",
    "plt.show()\n"
   ]
  },
  {
   "cell_type": "code",
   "execution_count": null,
   "metadata": {},
   "outputs": [],
   "source": [
    "import pandas as pd\n",
    "\n",
    "flattened_data = []\n",
    "episode_count = 1\n",
    "\n",
    "for episode in data:\n",
    "    for step in episode:\n",
    "        # Convert step to list and prepend episode_count\n",
    "        step_list = [episode_count] + list(step)\n",
    "        flattened_data.append(step_list)\n",
    "    episode_count += 1\n",
    "\n",
    "df = pd.DataFrame(\n",
    "    flattened_data,\n",
    "    columns=[\"Episode\", \"State\", \"Action\", \"Reward\", \"Done\", \"Truncated\"]\n",
    ")\n",
    "\n",
    "\n"
   ]
  },
  {
   "cell_type": "code",
   "execution_count": null,
   "metadata": {},
   "outputs": [],
   "source": [
    "print(df.head())\n",
    "print(df.describe())\n"
   ]
  },
  {
   "cell_type": "code",
   "execution_count": null,
   "metadata": {},
   "outputs": [],
   "source": [
    "import matplotlib.pyplot as plt\n",
    "import seaborn as sns\n",
    "\n",
    "sns.histplot(df['Reward'].values, bins=100, kde=True)\n",
    "plt.show()\n"
   ]
  },
  {
   "cell_type": "code",
   "execution_count": 1,
   "metadata": {},
   "outputs": [
    {
     "ename": "ModuleNotFoundError",
     "evalue": "No module named 'worldmodels1'",
     "output_type": "error",
     "traceback": [
      "\u001b[1;31m---------------------------------------------------------------------------\u001b[0m",
      "\u001b[1;31mModuleNotFoundError\u001b[0m                       Traceback (most recent call last)",
      "\u001b[1;32mc:\\Users\\aswegen.d\\Dropbox\\0_Buas\\BuasDev\\World Models\\worldmodels1\\notebooks\\explore_data.ipynb Cell 11\u001b[0m line \u001b[0;36m5\n\u001b[0;32m      <a href='vscode-notebook-cell:/c%3A/Users/aswegen.d/Dropbox/0_Buas/BuasDev/World%20Models/worldmodels1/notebooks/explore_data.ipynb#X13sZmlsZQ%3D%3D?line=2'>3</a>\u001b[0m \u001b[39mimport\u001b[39;00m \u001b[39mmatplotlib\u001b[39;00m\u001b[39m.\u001b[39;00m\u001b[39mpyplot\u001b[39;00m \u001b[39mas\u001b[39;00m \u001b[39mplt\u001b[39;00m\n\u001b[0;32m      <a href='vscode-notebook-cell:/c%3A/Users/aswegen.d/Dropbox/0_Buas/BuasDev/World%20Models/worldmodels1/notebooks/explore_data.ipynb#X13sZmlsZQ%3D%3D?line=3'>4</a>\u001b[0m \u001b[39mfrom\u001b[39;00m \u001b[39mtorchvision\u001b[39;00m\u001b[39m.\u001b[39;00m\u001b[39mutils\u001b[39;00m \u001b[39mimport\u001b[39;00m make_grid\n\u001b[1;32m----> <a href='vscode-notebook-cell:/c%3A/Users/aswegen.d/Dropbox/0_Buas/BuasDev/World%20Models/worldmodels1/notebooks/explore_data.ipynb#X13sZmlsZQ%3D%3D?line=4'>5</a>\u001b[0m \u001b[39mfrom\u001b[39;00m \u001b[39mworldmodels1\u001b[39;00m\u001b[39m.\u001b[39;00m\u001b[39mcnnvae\u001b[39;00m \u001b[39mimport\u001b[39;00m VAE\n",
      "\u001b[1;31mModuleNotFoundError\u001b[0m: No module named 'worldmodels1'"
     ]
    }
   ],
   "source": [
    "import torch\n",
    "import numpy as np\n",
    "import matplotlib.pyplot as plt\n",
    "from torchvision.utils import make_grid\n",
    "from ..src.worldmodels1.cnnvae import VAE"
   ]
  },
  {
   "cell_type": "code",
   "execution_count": null,
   "metadata": {},
   "outputs": [],
   "source": [
    "vae = VAE()"
   ]
  }
 ],
 "metadata": {
  "kernelspec": {
   "display_name": ".venv",
   "language": "python",
   "name": "python3"
  },
  "language_info": {
   "codemirror_mode": {
    "name": "ipython",
    "version": 3
   },
   "file_extension": ".py",
   "mimetype": "text/x-python",
   "name": "python",
   "nbconvert_exporter": "python",
   "pygments_lexer": "ipython3",
   "version": "3.11.4"
  },
  "orig_nbformat": 4
 },
 "nbformat": 4,
 "nbformat_minor": 2
}
